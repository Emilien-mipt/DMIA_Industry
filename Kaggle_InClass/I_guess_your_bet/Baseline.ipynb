{
 "cells": [
  {
   "cell_type": "code",
   "execution_count": 1,
   "metadata": {},
   "outputs": [],
   "source": [
    "import numpy as np\n",
    "import pandas as pd\n",
    "#import lightgbm as lgb\n",
    "import xgboost as xgb\n",
    "\n",
    "from sklearn import  model_selection, linear_model\n",
    "from sklearn.metrics import mean_squared_log_error, recall_score\n",
    "from sklearn.model_selection import cross_validate\n",
    "from sklearn.dummy import DummyRegressor\n",
    "from sklearn.preprocessing import OneHotEncoder\n",
    "from sklearn.neighbors import KNeighborsRegressor\n",
    "from matplotlib import pyplot\n",
    "\n",
    "import os\n",
    "import matplotlib.pyplot as plt"
   ]
  },
  {
   "cell_type": "code",
   "execution_count": 2,
   "metadata": {},
   "outputs": [],
   "source": [
    "data_dir = './data/'"
   ]
  },
  {
   "cell_type": "markdown",
   "metadata": {},
   "source": [
    "## Utils"
   ]
  },
  {
   "cell_type": "code",
   "execution_count": 3,
   "metadata": {},
   "outputs": [],
   "source": [
    "def rmsle(est, x, y_test):\n",
    "    \"\"\"\n",
    "    Метрика rmsle\n",
    "\n",
    "    :est: обученный экземпляр модели\n",
    "    :x: объекты на которых нужно предсказать значение\n",
    "    :y_test: фактическое значение объектов\n",
    "    :returns: значение метрики rmsle на выборке x\n",
    "    \"\"\"\n",
    "\n",
    "    predict = est.predict(x)\n",
    "    predict = [x if x > 0 else 0 for x in predict]\n",
    "    return np.sqrt(mean_squared_log_error(y_test, predict ))\n",
    "\n",
    "\n",
    "def regr_score(x_train, y_train, regr, scoring):\n",
    "    \"\"\"\n",
    "    Расчет кроссвалидации и вывод на экран\n",
    "\n",
    "    :x_train: обучающая выборка\n",
    "    :y_train: целевое значение\n",
    "    :regr: экземпляр модели\n",
    "    :scoring: метрика\n",
    "    \"\"\"\n",
    "    scores = cross_validate(regr, \n",
    "                            x_train, \n",
    "                            y_train, \n",
    "                            scoring=scoring,\n",
    "                            cv=5, \n",
    "                            return_train_score=False)\n",
    "    \n",
    "    scores_list = scores[list(scores.keys())[-1]]\n",
    "    print(scores_list)\n",
    "    print(f'mean score -- {np.mean(scores_list)}')\n",
    "    \n",
    "    \n",
    "def get_data():\n",
    "    df_x = pd.read_csv(f'{data_dir}/train.csv')\n",
    "    df_x = df_x.fillna(-1)\n",
    "        \n",
    "    y = df_x['label']\n",
    "    df_x = df_x.drop(['label', 'status', 'short', 'activity_title', 'title_activity_type',\n",
    "                      'activity_description', 'title_direction', 'comment_direction'], \n",
    "                     axis=1)\n",
    "    return df_x, y"
   ]
  },
  {
   "cell_type": "markdown",
   "metadata": {},
   "source": [
    "## Read data"
   ]
  },
  {
   "cell_type": "code",
   "execution_count": 4,
   "metadata": {},
   "outputs": [
    {
     "name": "stdout",
     "output_type": "stream",
     "text": [
      "(13000, 11)\n",
      "13000\n",
      "Index(['id_bet', 'run_id', 'user_id', 'direction_id', 'activity_id',\n",
      "       'size_max', 'size_min', 'is_educational', 'is_checkin_required',\n",
      "       'activity_type_id', 'main_competence_id'],\n",
      "      dtype='object')\n"
     ]
    }
   ],
   "source": [
    "df_x, y = get_data()\n",
    "print(df_x.shape)\n",
    "print(len(y))\n",
    "print(df_x.columns)"
   ]
  },
  {
   "cell_type": "code",
   "execution_count": 5,
   "metadata": {},
   "outputs": [],
   "source": [
    "x_train = np.array(df_x)\n",
    "y_train = np.array(y)"
   ]
  },
  {
   "cell_type": "code",
   "execution_count": 6,
   "metadata": {},
   "outputs": [
    {
     "name": "stdout",
     "output_type": "stream",
     "text": [
      "0 -- user_role\n",
      "1 -- competence\n",
      "2 -- author\n",
      "3 -- time_slot\n",
      "4 -- test\n",
      "5 -- competence_level\n",
      "6 -- competence_type\n",
      "7 -- activity_track\n",
      "8 -- track\n",
      "9 -- activity_tag\n",
      "10 -- role\n",
      "11 -- train\n",
      "12 -- place\n",
      "13 -- activity_author\n",
      "14 -- event\n",
      "15 -- user_tag\n",
      "16 -- sample_submission\n"
     ]
    }
   ],
   "source": [
    "# Посмотрим, какие есть файлы и положим их в словарь\n",
    "dfs = {}\n",
    "for i, x in enumerate(os.listdir(data_dir)):\n",
    "    file_name = x.split('.')[0]\n",
    "    print(f'{i} -- {file_name}')\n",
    "    dfs[file_name] = pd.read_csv(f'{data_dir}/{x}')"
   ]
  },
  {
   "cell_type": "markdown",
   "metadata": {},
   "source": [
    "## Simple prediction\n",
    "Для начала нужно попробовать самые простые модели, чтобы примерно понимать, какое качество ожидать"
   ]
  },
  {
   "cell_type": "code",
   "execution_count": 7,
   "metadata": {},
   "outputs": [
    {
     "name": "stdout",
     "output_type": "stream",
     "text": [
      "[3.17623168 2.64802335 1.97579148 1.95395719 1.93442136]\n",
      "mean score -- 2.337685013625203\n",
      "\n",
      "[2.28039206 1.64154422 1.45836226 1.9740166  2.50493593]\n",
      "mean score -- 1.97185021481104\n",
      "\n",
      "[1.78002104 2.23344153 1.55746428 1.83276392 2.26488835]\n",
      "mean score -- 1.9337158235699925\n",
      "\n",
      "[1.27742155 1.6914369  1.57470835 1.92055414 1.92987721]\n",
      "mean score -- 1.6787996311871414\n"
     ]
    }
   ],
   "source": [
    "# Наивная модель, где предсказанием является среднее значение, полученное на обучающей выборке\n",
    "regr = DummyRegressor(strategy='mean')\n",
    "regr_score(x_train, y_train, regr, rmsle)\n",
    "print()\n",
    "\n",
    "# Наивная модель, где предсказанием является медиана, полученная на обучающей выборке\n",
    "# Эта статистика менее подвержена выбросам, поэтому, возможно, даст лучшее качество\n",
    "regr = DummyRegressor(strategy='median')\n",
    "regr_score(x_train, y_train, regr, rmsle)\n",
    "print()\n",
    "\n",
    "# Градиентный бустинг\n",
    "regr = xgb.XGBRegressor()\n",
    "#regr = lgb.LGBMRegressor()\n",
    "regr_score(x_train, y_train, regr, rmsle)\n",
    "print()\n",
    "\n",
    "# К средних соседей\n",
    "regr = KNeighborsRegressor()\n",
    "regr_score(x_train, y_train, regr, rmsle)"
   ]
  },
  {
   "cell_type": "code",
   "execution_count": 8,
   "metadata": {},
   "outputs": [
    {
     "name": "stdout",
     "output_type": "stream",
     "text": [
      "[1.73313123 1.50553292 1.55535309 1.83568245 2.2077006 ]\n",
      "mean score -- 1.767480059031603\n",
      "\n",
      "[1.34620249 1.6663659  1.57248305 1.8823089  1.86615139]\n",
      "mean score -- 1.6667023453319534\n"
     ]
    }
   ],
   "source": [
    "regr = xgb.XGBRegressor(n_estimators=68)\n",
    "regr_score(x_train, y_train, regr, rmsle)\n",
    "print()\n",
    "\n",
    "regr = KNeighborsRegressor(n_neighbors=4, weights='distance',  p=1)\n",
    "regr_score(x_train, y_train, regr, rmsle)"
   ]
  },
  {
   "cell_type": "markdown",
   "metadata": {},
   "source": [
    "## Drop outliers\n",
    "Качество улучшилось, но не сильно. Возможно, нужно что то еще придумать.\n",
    "\n",
    "Можно посмотреть на наш таргет"
   ]
  },
  {
   "cell_type": "code",
   "execution_count": 9,
   "metadata": {},
   "outputs": [
    {
     "data": {
      "text/plain": [
       "<matplotlib.axes._subplots.AxesSubplot at 0x105f6bbe0>"
      ]
     },
     "execution_count": 9,
     "metadata": {},
     "output_type": "execute_result"
    },
    {
     "data": {
      "image/png": "[encoded data removed]",
      "text/plain": [
       "<Figure size 432x288 with 1 Axes>"
      ]
     },
     "metadata": {
      "needs_background": "light"
     },
     "output_type": "display_data"
    }
   ],
   "source": [
    "pd.Series(sorted(y_train)).plot()"
   ]
  },
  {
   "cell_type": "markdown",
   "metadata": {},
   "source": [
    "Видно, что есть выбросы и, возможно, они мешают алгоритму уловить настоящую закономерность, поэтому можно ему помочь, удалив выбросы.\n",
    "\n",
    "Делать это можно несколькими способами, но возьмем самый простой, просто выкинем все значения которые больше 95 перцентиля. Кстати, это значение тоже можно подбирать как гиперпараметр."
   ]
  },
  {
   "cell_type": "code",
   "execution_count": 10,
   "metadata": {},
   "outputs": [
    {
     "data": {
      "text/plain": [
       "<matplotlib.axes._subplots.AxesSubplot at 0x1179af908>"
      ]
     },
     "execution_count": 10,
     "metadata": {},
     "output_type": "execute_result"
    },
    {
     "data": {
      "image/png": "[encoded data removed]",
      "text/plain": [
       "<Figure size 432x288 with 1 Axes>"
      ]
     },
     "metadata": {
      "needs_background": "light"
     },
     "output_type": "display_data"
    }
   ],
   "source": [
    "pd.Series(sorted([x for x in y_train if x < np.quantile(y_train, 0.95)])).plot()"
   ]
  },
  {
   "cell_type": "markdown",
   "metadata": {},
   "source": [
    "Выглядит уже лучше, ставки на 10000 - 40000 уже не участвуют в обучении."
   ]
  },
  {
   "cell_type": "code",
   "execution_count": 11,
   "metadata": {},
   "outputs": [],
   "source": [
    "# Формирование новой выборки без выбросов\n",
    "x_train = np.array(df_x)\n",
    "y_train = np.array(y)\n",
    "\n",
    "x_train = x_train[[True if x < np.quantile(y_train, 0.95) else False for x in y_train]]\n",
    "y_train = [x for x in y_train if x < np.quantile(y_train, 0.95)]"
   ]
  },
  {
   "cell_type": "markdown",
   "metadata": {},
   "source": [
    "По аналогии с тем как делали выше, посмотрим качество моделей"
   ]
  },
  {
   "cell_type": "code",
   "execution_count": 13,
   "metadata": {},
   "outputs": [
    {
     "name": "stdout",
     "output_type": "stream",
     "text": [
      "[2.71190343 2.31330984 1.60983129 1.75684083 1.77779191]\n",
      "mean score -- 2.033935461952158\n",
      "\n",
      "[1.98036921 1.62175819 1.47492428 1.8099698  2.18064734]\n",
      "mean score -- 1.8135337643858425\n",
      "\n",
      "[1.4675376  2.30300629 1.44157375 1.69373776 1.90377605]\n",
      "mean score -- 1.7619262915365634\n",
      "\n",
      "[1.31851903 1.4221127  1.60173555 1.82461886 1.85278949]\n",
      "mean score -- 1.6039551248369093\n"
     ]
    }
   ],
   "source": [
    "# Наивная модель где предсказанием является среднее значение полученное на обучающей выборке\n",
    "regr = DummyRegressor(strategy='mean')\n",
    "regr_score(x_train, y_train, regr, rmsle)\n",
    "print()\n",
    "\n",
    "# Наивная модель где предсказанием является медиана полученная на обучающей выборке\n",
    "# Эта статистика менее подвержена выбросам, поэтому возможно даст лучшее качество\n",
    "regr = DummyRegressor(strategy='median')\n",
    "regr_score(x_train, y_train, regr, rmsle)\n",
    "print()\n",
    "\n",
    "# Градиентный бустинг \n",
    "regr = xgb.XGBRegressor()\n",
    "regr_score(x_train, y_train, regr, rmsle)\n",
    "print()\n",
    "\n",
    "# К средних соседей\n",
    "regr = KNeighborsRegressor()\n",
    "regr_score(x_train, y_train, regr, rmsle)"
   ]
  },
  {
   "cell_type": "code",
   "execution_count": 15,
   "metadata": {},
   "outputs": [
    {
     "name": "stdout",
     "output_type": "stream",
     "text": [
      "[1.49982017 1.61136678 1.44575125 1.70008643 1.87011865]\n",
      "mean score -- 1.6254286556070003\n",
      "\n",
      "[1.33479472 1.46249063 1.58680068 1.80824223 1.82684265]\n",
      "mean score -- 1.6038341807566585\n"
     ]
    }
   ],
   "source": [
    "regr = xgb.XGBRegressor(n_estimators=66, num_leaves=38)\n",
    "regr_score(x_train, y_train, regr, rmsle)\n",
    "print()\n",
    "\n",
    "regr = KNeighborsRegressor(n_neighbors=4, weights='distance',  p=1)\n",
    "regr_score(x_train, y_train, regr, rmsle)"
   ]
  },
  {
   "cell_type": "markdown",
   "metadata": {},
   "source": [
    "## Merge\n",
    "Добавим данные"
   ]
  },
  {
   "cell_type": "code",
   "execution_count": 18,
   "metadata": {},
   "outputs": [],
   "source": [
    "x_train = np.array(df_x)\n",
    "y_train = np.array(y)\n",
    "\n",
    "# тут происходит мерж исходных данных и дополнительных, которые мы считали в словарь dfs\n",
    "\n",
    "df_tmp = pd.merge(df_x, dfs['activity_author'].groupby('activity_id').count().reset_index(),  \n",
    "                  how='left', \n",
    "                  left_on='activity_id', right_on='activity_id', \n",
    "                  suffixes=('_x', 'activity_author'))\n",
    "\n",
    "df_tmp = pd.merge(df_tmp, dfs['event'].groupby('run_id').count().reset_index(),  \n",
    "                  how='left', \n",
    "                  left_on='run_id', right_on='run_id', \n",
    "                  suffixes=('_x', '_event'))\n",
    "\n",
    "df_tmp = pd.merge(df_tmp, dfs['user_role'].drop_duplicates('user_id'),\n",
    "                  how='left', \n",
    "                  left_on='user_id', right_on='user_id', \n",
    "                  suffixes=('_x', '_event'))"
   ]
  },
  {
   "cell_type": "code",
   "execution_count": 19,
   "metadata": {},
   "outputs": [
    {
     "name": "stdout",
     "output_type": "stream",
     "text": [
      "[1.77679928 1.66666112 1.54781792 1.82930091 2.29371744]\n",
      "mean score -- 1.8228593360937573\n",
      "\n",
      "[1.34620249 1.6663659  1.57248305 1.8823089  1.86615139]\n",
      "mean score -- 1.6667023453319534\n"
     ]
    }
   ],
   "source": [
    "regr = xgb.XGBRegressor()\n",
    "regr_score(df_tmp, y_train, regr, rmsle)\n",
    "print()\n",
    "\n",
    "\n",
    "regr = KNeighborsRegressor(n_neighbors=4, weights='distance',  p=1)\n",
    "regr_score(x_train, y_train, regr, rmsle)"
   ]
  },
  {
   "cell_type": "code",
   "execution_count": 20,
   "metadata": {},
   "outputs": [
    {
     "name": "stdout",
     "output_type": "stream",
     "text": [
      "(13000, 16)\n",
      "13000\n",
      "(12320, 16)\n",
      "12320\n"
     ]
    }
   ],
   "source": [
    "print(df_tmp.shape)\n",
    "print(len(y))\n",
    "\n",
    "df_tmp = df_tmp.fillna(-1)\n",
    "x_train = np.array(df_tmp)\n",
    "y_train = np.array(y)\n",
    "\n",
    "x_train = x_train[[True if x < np.quantile(y_train, 0.95) else False for x in y_train]]\n",
    "y_train = [x for x in y_train if x < np.quantile(y_train, 0.95)]\n",
    "\n",
    "print(x_train.shape)\n",
    "print(len(y_train))"
   ]
  },
  {
   "cell_type": "code",
   "execution_count": 22,
   "metadata": {},
   "outputs": [
    {
     "name": "stdout",
     "output_type": "stream",
     "text": [
      "[1.4931163  1.57650017 1.42860204 1.69665509 1.85644485]\n",
      "mean score -- 1.6102636900048561\n",
      "\n",
      "[1.33649867 1.46744419 1.58286911 1.80620596 1.8251924 ]\n",
      "mean score -- 1.6036420644012694\n"
     ]
    }
   ],
   "source": [
    "regr = xgb.XGBRegressor(n_estimators=60, num_leaves=39)\n",
    "regr_score(x_train, y_train, regr, rmsle)\n",
    "print()\n",
    "\n",
    "\n",
    "regr = KNeighborsRegressor(n_neighbors=4, weights='distance',  p=1)\n",
    "regr_score(x_train, y_train, regr, rmsle)"
   ]
  },
  {
   "cell_type": "code",
   "execution_count": 23,
   "metadata": {},
   "outputs": [
    {
     "data": {
      "image/png": "[encoded data removed]",
      "text/plain": [
       "<Figure size 1440x720 with 1 Axes>"
      ]
     },
     "metadata": {
      "needs_background": "light"
     },
     "output_type": "display_data"
    }
   ],
   "source": [
    "regr = xgb.XGBRegressor()\n",
    "regr.fit(x_train, y_train)\n",
    "pyplot.figure(figsize=(20,10))\n",
    "pyplot.bar(df_tmp.columns, regr.feature_importances_)\n",
    "pyplot.show()"
   ]
  },
  {
   "cell_type": "markdown",
   "metadata": {},
   "source": [
    "Самыми важными признакми являются user_id и id_bet\n",
    "\n",
    "Можно попробовать посмотреть то же самое, заэнкодив признаки"
   ]
  },
  {
   "cell_type": "markdown",
   "metadata": {},
   "source": [
    "## Predict\n",
    "\n",
    "Сделаем сабмит"
   ]
  },
  {
   "cell_type": "code",
   "execution_count": 25,
   "metadata": {},
   "outputs": [],
   "source": [
    "df_tmp = pd.merge(df_x, dfs['activity_author'].groupby('activity_id').count().reset_index(),  \n",
    "                  how='left', \n",
    "                  left_on='activity_id', right_on='activity_id', \n",
    "                  suffixes=('_x', 'activity_author'))\n",
    "\n",
    "df_tmp = pd.merge(df_tmp, dfs['event'].groupby('run_id').count().reset_index(),  \n",
    "                  how='left', \n",
    "                  left_on='run_id', right_on='run_id', \n",
    "                  suffixes=('_x', '_event'))\n",
    "\n",
    "df_tmp = pd.merge(df_tmp, dfs['user_role'].drop_duplicates('user_id'),\n",
    "                  how='left', \n",
    "                  left_on='user_id', right_on='user_id', \n",
    "                  suffixes=('_x', '_event'))"
   ]
  },
  {
   "cell_type": "code",
   "execution_count": 26,
   "metadata": {},
   "outputs": [],
   "source": [
    "df_x_test = pd.read_csv(f'{data_dir}/test.csv')\n",
    "df_x_test = df_x_test.fillna(-1)\n",
    "df_x_test = df_x_test.drop(['short', 'activity_title', 'title_activity_type',\n",
    "            'activity_description', 'title_direction', 'comment_direction'], axis=1)"
   ]
  },
  {
   "cell_type": "code",
   "execution_count": 27,
   "metadata": {},
   "outputs": [
    {
     "name": "stdout",
     "output_type": "stream",
     "text": [
      "['id_bet' 'run_id' 'user_id' 'direction_id' 'activity_id' 'size_max'\n",
      " 'size_min' 'is_educational' 'is_checkin_required' 'activity_type_id'\n",
      " 'main_competence_id' 'author_id' 'id' 'place_id' 'time_slot_id' 'role_id']\n",
      "['id_bet' 'run_id' 'user_id' 'direction_id' 'activity_id' 'size_max'\n",
      " 'size_min' 'is_educational' 'is_checkin_required' 'activity_type_id'\n",
      " 'main_competence_id' 'author_id' 'id' 'place_id' 'time_slot_id' 'role_id']\n"
     ]
    }
   ],
   "source": [
    "df_test = pd.merge(df_x_test, dfs['activity_author'].groupby('activity_id').count().reset_index(),  \n",
    "                  how='left', \n",
    "                  left_on='activity_id', right_on='activity_id', \n",
    "                  suffixes=('_x', 'activity_author'))\n",
    "\n",
    "df_test = pd.merge(df_test, dfs['event'].groupby('run_id').count().reset_index(),  \n",
    "                  how='left', \n",
    "                  left_on='run_id', right_on='run_id', \n",
    "                  suffixes=('_x', '_event'))\n",
    "\n",
    "df_test = pd.merge(df_test, dfs['user_role'].drop_duplicates('user_id'),\n",
    "                  how='left', \n",
    "                  left_on='user_id', right_on='user_id', \n",
    "                  suffixes=('_x', '_event'))\n",
    "\n",
    "print(df_tmp.columns.values)\n",
    "print(df_test.columns.values)"
   ]
  },
  {
   "cell_type": "code",
   "execution_count": 28,
   "metadata": {},
   "outputs": [],
   "source": [
    "df_tmp = df_tmp.fillna(-1)\n",
    "df_test = df_test.fillna(-1)\n",
    "\n",
    "\n",
    "x_train = np.array(df_tmp)\n",
    "x_test = np.array(df_test)\n",
    "y_train = np.array(y)"
   ]
  },
  {
   "cell_type": "code",
   "execution_count": 29,
   "metadata": {},
   "outputs": [],
   "source": [
    "df_tmp = df_tmp.fillna(-1)\n",
    "x_train = np.array(df_tmp)\n",
    "\n",
    "y_train = np.array(y)\n",
    "\n",
    "x_train = x_train[[True if x < np.quantile(y_train, 0.95) else False for x in y_train]]\n",
    "y_train = [x for x in y_train if x < np.quantile(y_train, 0.95)]\n",
    "\n",
    "df_test = df_test.fillna(-1)\n",
    "x_test = np.array(df_test)"
   ]
  },
  {
   "cell_type": "code",
   "execution_count": 30,
   "metadata": {},
   "outputs": [
    {
     "data": {
      "text/plain": [
       "XGBRegressor(base_score=0.5, booster='gbtree', colsample_bylevel=1,\n",
       "       colsample_bytree=1, gamma=0, learning_rate=0.1, max_delta_step=0,\n",
       "       max_depth=3, min_child_weight=1, missing=None, n_estimators=68,\n",
       "       n_jobs=1, nthread=None, objective='reg:linear', random_state=0,\n",
       "       reg_alpha=0, reg_lambda=1, scale_pos_weight=1, seed=None,\n",
       "       silent=True, subsample=1)"
      ]
     },
     "execution_count": 30,
     "metadata": {},
     "output_type": "execute_result"
    }
   ],
   "source": [
    "regr = xgb.XGBRegressor(n_estimators=68)\n",
    "regr.fit(x_train, y_train)"
   ]
  },
  {
   "cell_type": "code",
   "execution_count": 31,
   "metadata": {},
   "outputs": [
    {
     "name": "stdout",
     "output_type": "stream",
     "text": [
      "CPU times: user 6.41 ms, sys: 1.67 ms, total: 8.08 ms\n",
      "Wall time: 6.05 ms\n"
     ]
    }
   ],
   "source": [
    "%%time\n",
    "test_pred = regr.predict(x_test)"
   ]
  },
  {
   "cell_type": "code",
   "execution_count": 32,
   "metadata": {},
   "outputs": [],
   "source": [
    "submit = pd.concat([df_test['id_bet'], pd.Series(test_pred)], axis=1)\n",
    "submit.columns=['id_bet', 'label']\n",
    "submit.to_csv('submit_baseline.csv', index=False)"
   ]
  },
  {
   "cell_type": "code",
   "execution_count": null,
   "metadata": {},
   "outputs": [],
   "source": []
  }
 ],
 "metadata": {
  "kernelspec": {
   "display_name": "DMIA_2018",
   "language": "python",
   "name": "dmia_2018"
  },
  "language_info": {
   "codemirror_mode": {
    "name": "ipython",
    "version": 3
   },
   "file_extension": ".py",
   "mimetype": "text/x-python",
   "name": "python",
   "nbconvert_exporter": "python",
   "pygments_lexer": "ipython3",
   "version": "3.6.6"
  }
 },
 "nbformat": 4,
 "nbformat_minor": 2
}
