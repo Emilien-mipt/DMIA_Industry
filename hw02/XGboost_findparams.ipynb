{
 "cells": [
  {
   "cell_type": "markdown",
   "metadata": {},
   "source": [
    "**Часть 1**\n",
    "\n",
    "Нужно подобрать оптимальные параметры xgboost для набора данных HR.csv. Код для проверки качества представлен в скрипте xgboost_params_checker.py, а пример набора параметров в xgboost_params_example.json. Чекер с вашими параметрами должен отработать за 2 минуты на машинке для проверки. Для сравнения на xgboost_params_example.json чекер работает 20 секунд.\n"
   ]
  },
  {
   "cell_type": "code",
   "execution_count": 1,
   "metadata": {},
   "outputs": [],
   "source": [
    "import pandas as pd\n",
    "import numpy as np\n",
    "import matplotlib\n",
    "from matplotlib import pyplot as plt\n",
    "from sklearn.model_selection import GridSearchCV\n",
    "from sklearn.model_selection import RandomizedSearchCV \n",
    "matplotlib.style.use('ggplot')\n",
    "%matplotlib inline"
   ]
  },
  {
   "cell_type": "code",
   "execution_count": 2,
   "metadata": {},
   "outputs": [],
   "source": [
    "data = pd.read_csv('HR.csv', header = 0, sep = ',')"
   ]
  },
  {
   "cell_type": "code",
   "execution_count": 3,
   "metadata": {},
   "outputs": [
    {
     "data": {
      "text/plain": [
       "0    0.654777\n",
       "1    0.345223\n",
       "Name: left, dtype: float64"
      ]
     },
     "execution_count": 3,
     "metadata": {},
     "output_type": "execute_result"
    }
   ],
   "source": [
    "X = data.drop('left', 1)\n",
    "y = data['left']\n",
    "#несбалансированные классы\n",
    "y.value_counts(normalize=True)"
   ]
  },
  {
   "cell_type": "code",
   "execution_count": 4,
   "metadata": {},
   "outputs": [],
   "source": [
    "# пропущенных значений нет:\n",
    "#data.info()\n",
    "# некоторые признаки (last_evaluation, number_project, average_montly_hours) скоррелированы довольно значительно:\n",
    "#data.corr().head()\n",
    "# признаки сильно отличаются друг от друга по модулю значений - но масшабирование не сыграло роли в этой задаче:\n",
    "#data.describe()"
   ]
  },
  {
   "cell_type": "code",
   "execution_count": 5,
   "metadata": {},
   "outputs": [],
   "source": [
    "from xgboost import XGBClassifier\n",
    "from sklearn.model_selection import train_test_split\n",
    "from sklearn.model_selection import cross_val_score\n",
    "from sklearn.metrics import accuracy_score"
   ]
  },
  {
   "cell_type": "code",
   "execution_count": 6,
   "metadata": {},
   "outputs": [],
   "source": [
    "import warnings\n",
    "warnings.filterwarnings('ignore')"
   ]
  },
  {
   "cell_type": "code",
   "execution_count": 7,
   "metadata": {},
   "outputs": [
    {
     "name": "stdout",
     "output_type": "stream",
     "text": [
      "0.7663200640128025 0.7663200640128025\n",
      "CPU times: user 11.1 s, sys: 43.4 ms, total: 11.2 s\n",
      "Wall time: 11.2 s\n"
     ]
    }
   ],
   "source": [
    "%%time\n",
    "estimator = XGBClassifier(learning_rate=0.1, max_depth=5, n_estimators=1000, min_child_weight=3, seed = 42)\n",
    "score = cross_val_score(estimator, X, y, scoring = 'accuracy', cv = 3).mean()\n",
    "print (score, np.mean(score))\n",
    "# базовые параметры"
   ]
  },
  {
   "cell_type": "code",
   "execution_count": 8,
   "metadata": {},
   "outputs": [
    {
     "name": "stdout",
     "output_type": "stream",
     "text": [
      "[0.873      0.6508     0.82616523] 0.7833217443488697\n",
      "CPU times: user 10.4 s, sys: 23.9 ms, total: 10.4 s\n",
      "Wall time: 10.4 s\n"
     ]
    }
   ],
   "source": [
    "%%time\n",
    "wasbest = XGBClassifier(learning_rate=0.005, max_depth=7, min_child_weight=7,\n",
    "                             n_estimators = 750, seed = 42,\n",
    "                             objective = 'binary:logistic', scale_pos_weight=0.8,\n",
    "                             gamma = 0.1, reg_alpha = 0.218,\n",
    "                             subsample = 1, colsample_bytree = 0.7)\n",
    "score = cross_val_score(wasbest, X, y, scoring = 'accuracy', cv = 3)\n",
    "print (score, np.mean(score))\n",
    "#Более оптимальные параметры"
   ]
  },
  {
   "cell_type": "code",
   "execution_count": 9,
   "metadata": {},
   "outputs": [
    {
     "data": {
      "text/plain": [
       "1.01"
      ]
     },
     "execution_count": 9,
     "metadata": {},
     "output_type": "execute_result"
    }
   ],
   "source": [
    "#проверка баллов\n",
    "max(round(2 ** (30 * (0.7833217443488697 - 0.783)), 2), 0.05)"
   ]
  }
 ],
 "metadata": {
  "kernelspec": {
   "display_name": "DMIA_2018",
   "language": "python",
   "name": "dmia_2018"
  },
  "language_info": {
   "codemirror_mode": {
    "name": "ipython",
    "version": 3
   },
   "file_extension": ".py",
   "mimetype": "text/x-python",
   "name": "python",
   "nbconvert_exporter": "python",
   "pygments_lexer": "ipython3",
   "version": "3.6.6"
  }
 },
 "nbformat": 4,
 "nbformat_minor": 2
}
