{
 "cells": [
  {
   "cell_type": "markdown",
   "metadata": {},
   "source": [
    "# NumPy  SciPy"
   ]
  },
  {
   "cell_type": "code",
   "execution_count": 1,
   "metadata": {},
   "outputs": [],
   "source": [
    "import numpy as np"
   ]
  },
  {
   "cell_type": "markdown",
   "metadata": {},
   "source": [
    "## Задание 1 ★★☆"
   ]
  },
  {
   "cell_type": "markdown",
   "metadata": {},
   "source": [
    "Разбейте массив на убывающие подмассивы.  \n",
    "Подсказка: np.diff()  \n",
    "Используйте библиотеку `numpy`, не используйте циклы."
   ]
  },
  {
   "cell_type": "code",
   "execution_count": 2,
   "metadata": {},
   "outputs": [],
   "source": [
    "def function_1(arr):\n",
    "    # TODO\n",
    "    return np.split(arr, np.where(np.diff(arr) >= 0)[0] + 1)"
   ]
  },
  {
   "cell_type": "code",
   "execution_count": 3,
   "metadata": {},
   "outputs": [
    {
     "name": "stdout",
     "output_type": "stream",
     "text": [
      "a [3 2 1 4 5 2 0 0 2 4 1]\n",
      "Diff:  [-1 -1  3  1 -3 -2  0  2  2 -3]\n",
      "Indices:  [3 4 8 9]\n",
      "Result:  [array([3, 2, 1]), array([4]), array([5, 2, 0]), array([0]), array([2]), array([4, 1])]\n"
     ]
    }
   ],
   "source": [
    "#Testing the code\n",
    "a = np.array([3, 2, 1, 4, 5, 2, 0, 0, 2, 4, 1])\n",
    "print(\"a\", a)\n",
    "np.diff(a)\n",
    "print(\"Diff: \", np.diff(a))\n",
    "print(\"Indices: \", np.where(np.diff(a) > 0)[0] + 1)\n",
    "print(\"Result: \", np.split(a, np.where(np.diff(a) >= 0)[0] + 1))"
   ]
  },
  {
   "cell_type": "markdown",
   "metadata": {},
   "source": [
    "Проверка"
   ]
  },
  {
   "cell_type": "code",
   "execution_count": 4,
   "metadata": {},
   "outputs": [
    {
     "data": {
      "text/plain": [
       "[array([3, 2, 1]), array([4]), array([5, 2, 0]), array([2]), array([4, 1])]"
      ]
     },
     "execution_count": 4,
     "metadata": {},
     "output_type": "execute_result"
    }
   ],
   "source": [
    "function_1([3, 2, 1, 4, 5, 2, 0, 2, 4, 1])"
   ]
  },
  {
   "cell_type": "code",
   "execution_count": 5,
   "metadata": {},
   "outputs": [
    {
     "data": {
      "text/plain": [
       "True"
      ]
     },
     "execution_count": 5,
     "metadata": {},
     "output_type": "execute_result"
    }
   ],
   "source": [
    "len(function_1([3, 2, 1, 4, 5, 2, 0, 2, 4, 1])) == 5"
   ]
  },
  {
   "cell_type": "code",
   "execution_count": 6,
   "metadata": {},
   "outputs": [
    {
     "data": {
      "text/plain": [
       "True"
      ]
     },
     "execution_count": 6,
     "metadata": {},
     "output_type": "execute_result"
    }
   ],
   "source": [
    "np.random.seed(42)\n",
    "len(function_1(np.random.randint(-10, 10, size=20))) == 9"
   ]
  },
  {
   "cell_type": "code",
   "execution_count": 7,
   "metadata": {},
   "outputs": [
    {
     "data": {
      "text/plain": [
       "True"
      ]
     },
     "execution_count": 7,
     "metadata": {},
     "output_type": "execute_result"
    }
   ],
   "source": [
    "np.random.seed(42)\n",
    "len(function_1(np.random.randint(-10, 100, size=10))) == 4"
   ]
  },
  {
   "cell_type": "markdown",
   "metadata": {},
   "source": [
    "Значение для формы"
   ]
  },
  {
   "cell_type": "code",
   "execution_count": 8,
   "metadata": {},
   "outputs": [
    {
     "name": "stdout",
     "output_type": "stream",
     "text": [
      "505\n"
     ]
    }
   ],
   "source": [
    "np.random.seed(21)\n",
    "a = np.random.uniform(0, 3000, size=1000)\n",
    "print(len(function_1(a)))"
   ]
  },
  {
   "cell_type": "markdown",
   "metadata": {},
   "source": [
    "## Задание 2 ★★☆"
   ]
  },
  {
   "cell_type": "markdown",
   "metadata": {},
   "source": [
    "Дан массив arr, необходимо найти среднее значение внутри групп, группа определена массивом g. Например, для  \n",
    "`arr = [4, 2, 1, 5, 2, 5, 1, 3]` и   \n",
    "`g =   [0, 1, 1, 0, 1, 0, 1, 0]` (4 относится к группе 0, 2 к группе 1 и т. д.)   \n",
    "Средние по группам: `[4.25, 1.5]`  \n",
    "Подсказка: `np.bincount()`   \n",
    "Используйте библиотеку `numpy`, не используйте циклы."
   ]
  },
  {
   "cell_type": "code",
   "execution_count": 9,
   "metadata": {},
   "outputs": [],
   "source": [
    "def groupby(a, b):\n",
    "    # Get argsort indices, to be used to sort a and b in the next steps\n",
    "    sidx = b.argsort(kind='mergesort')\n",
    "    a_sorted = a[sidx]\n",
    "    b_sorted = b[sidx]\n",
    "\n",
    "    # Get the group limit indices (start, stop of groups)\n",
    "    cut_idx = np.flatnonzero(np.r_[True,b_sorted[1:] != b_sorted[:-1],True])\n",
    "\n",
    "    # Split input array with those start, stop ones\n",
    "    out = [a_sorted[i:j] for i,j in zip(cut_idx[:-1],cut_idx[1:])]\n",
    "    return out"
   ]
  },
  {
   "cell_type": "code",
   "execution_count": 10,
   "metadata": {},
   "outputs": [
    {
     "name": "stdout",
     "output_type": "stream",
     "text": [
      "Grouped array:  [array([4, 5, 5, 3]), array([2, 1, 2, 1])]\n",
      "2\n",
      "4.25\n",
      "[4.25, 1.5]\n"
     ]
    }
   ],
   "source": [
    "#Testing the code\n",
    "a = np.array([4, 2, 1, 5, 2, 5, 1, 3])\n",
    "b = np.array([0, 1, 1, 0, 1, 0, 1, 0])\n",
    "c = groupby(a, b)\n",
    "print(\"Grouped array: \", c)\n",
    "print(len(c))\n",
    "res = []\n",
    "for k in c:\n",
    "    res.append(k.mean())\n",
    "print(c[0].mean())\n",
    "print(res)"
   ]
  },
  {
   "cell_type": "code",
   "execution_count": 11,
   "metadata": {},
   "outputs": [],
   "source": [
    "def function_2_my(arr, g):\n",
    "    # TODO\n",
    "    res = []\n",
    "    c = groupby(arr, g)\n",
    "    for k in c:\n",
    "        res.append(k.mean())\n",
    "    return np.array(res)"
   ]
  },
  {
   "cell_type": "code",
   "execution_count": 12,
   "metadata": {},
   "outputs": [],
   "source": [
    "#Now, using np.bincount() method\n",
    "def function_2(arr, g):\n",
    "    return np.bincount(g, arr)/np.bincount(g)"
   ]
  },
  {
   "cell_type": "code",
   "execution_count": 20,
   "metadata": {},
   "outputs": [
    {
     "name": "stdout",
     "output_type": "stream",
     "text": [
      "Bincount b:  [4 4]\n",
      "Bincount a:  [0 2 2 1 1 2]\n",
      "Bincount b with weight a:  [17.  6.]\n",
      "Mean:  [4.25 1.5 ]\n"
     ]
    }
   ],
   "source": [
    "#Test\n",
    "a = [4, 2, 1, 5, 2, 5, 1, 3]\n",
    "b = [0, 1, 1, 0, 1, 0, 1, 0]\n",
    "print(\"Bincount b: \", np.bincount(b))\n",
    "print(\"Bincount a: \", np.bincount(a))\n",
    "print(\"Bincount b with weight a: \", np.bincount(b, a))\n",
    "print(\"Mean: \", np.bincount(b, a)/np.bincount(b))"
   ]
  },
  {
   "cell_type": "code",
   "execution_count": 13,
   "metadata": {},
   "outputs": [
    {
     "data": {
      "text/plain": [
       "array([4.25, 1.5 ])"
      ]
     },
     "execution_count": 13,
     "metadata": {},
     "output_type": "execute_result"
    }
   ],
   "source": [
    "function_2(np.array([4, 2, 1, 5, 2, 5, 1, 3]), np.array([0, 1, 1, 0, 1, 0, 1, 0]))"
   ]
  },
  {
   "cell_type": "markdown",
   "metadata": {},
   "source": [
    "Проверочный код"
   ]
  },
  {
   "cell_type": "code",
   "execution_count": 14,
   "metadata": {},
   "outputs": [
    {
     "data": {
      "text/plain": [
       "True"
      ]
     },
     "execution_count": 14,
     "metadata": {},
     "output_type": "execute_result"
    }
   ],
   "source": [
    "all(function_2(np.array([4, 2, 1, 5, 2, 5, 1, 3]), np.array([0, 1, 1, 0, 1, 0, 1, 0])) == [4.25, 1.5])"
   ]
  },
  {
   "cell_type": "code",
   "execution_count": 15,
   "metadata": {},
   "outputs": [
    {
     "data": {
      "text/plain": [
       "True"
      ]
     },
     "execution_count": 15,
     "metadata": {},
     "output_type": "execute_result"
    }
   ],
   "source": [
    "np.random.seed(42)\n",
    "all(function_2(np.random.randint(0, 25, size=10), np.random.randint(0, 3, size=10)) == [12., 15.2, 10.])"
   ]
  },
  {
   "cell_type": "code",
   "execution_count": 16,
   "metadata": {},
   "outputs": [
    {
     "data": {
      "text/plain": [
       "True"
      ]
     },
     "execution_count": 16,
     "metadata": {},
     "output_type": "execute_result"
    }
   ],
   "source": [
    "np.random.seed(42)\n",
    "all(function_2(np.random.randint(0, 100, size=10), np.random.randint(0, 4, size=10)) == [89., 78., 20., 54.])"
   ]
  },
  {
   "cell_type": "markdown",
   "metadata": {},
   "source": [
    "Значение для формы"
   ]
  },
  {
   "cell_type": "code",
   "execution_count": 17,
   "metadata": {},
   "outputs": [
    {
     "name": "stdout",
     "output_type": "stream",
     "text": [
      "30021.8043\n"
     ]
    }
   ],
   "source": [
    "np.random.seed(21)\n",
    "a = np.random.uniform(0, 3000, size=1000)\n",
    "g = np.random.randint(0, 20, 1000)\n",
    "print(np.round(function_2(a, g).sum(), 4))"
   ]
  },
  {
   "cell_type": "markdown",
   "metadata": {},
   "source": [
    "## Задание 3 ★★★"
   ]
  },
  {
   "cell_type": "markdown",
   "metadata": {},
   "source": [
    "Предположим нам даны две выборки-матрицы: обучающая X_train (размер l1 x n) и тестовая X_test (размер l2 x n), каждая строка в матрице - это вектор, описывающий объект в n-мерном пространстве. Допустим, что в ходе некоторой задачи потребовалось вычислить расстояние между векторами из тестовой и обучающей выборки. То есть для каждой строки-вектора из тестовой выборки нужно найти расстояние до каждого вектора из обучающей, таким образом мы получим матрицу dist размера l1 x l2.   \n",
    "\n",
    "В этом задании необходимо получить матрицу расстояний dist, **не используя циклы**.\n",
    "Для начала, попробуйте это сделать через два цикла и сравните эффективность с конечной реализацией через numpy.  "
   ]
  },
  {
   "cell_type": "code",
   "execution_count": null,
   "metadata": {},
   "outputs": [],
   "source": [
    "def function_3(X_train, X_test):\n",
    "    # TODO"
   ]
  },
  {
   "cell_type": "markdown",
   "metadata": {},
   "source": [
    "Значение для формы"
   ]
  },
  {
   "cell_type": "code",
   "execution_count": null,
   "metadata": {},
   "outputs": [],
   "source": [
    "%%time\n",
    "np.random.seed(42)\n",
    "X_train, X_test = np.random.rand(60000, 3000), np.random.rand(1000, 3000)\n",
    "dist = function_3(X_train, X_test)\n",
    "print(np.round(dist.sum(), 4))"
   ]
  },
  {
   "cell_type": "markdown",
   "metadata": {},
   "source": [
    "## Задание 4 ★☆☆"
   ]
  },
  {
   "cell_type": "markdown",
   "metadata": {
    "collapsed": true
   },
   "source": [
    "Реализуйте функцию вычисляющую приближенную матрицу $X_k$  для матрицы $X$ заданного ранга $k$ по норме Фробениуса.   \n",
    "Подсказка:   \n",
    "см. семнар SciPy  \n",
    "scipy.linalg.svd  "
   ]
  },
  {
   "cell_type": "code",
   "execution_count": 49,
   "metadata": {},
   "outputs": [],
   "source": [
    "import scipy\n",
    "from scipy.linalg import svd\n",
    "from numpy.linalg import matrix_rank"
   ]
  },
  {
   "cell_type": "code",
   "execution_count": 58,
   "metadata": {},
   "outputs": [],
   "source": [
    "def function_4(X, k):\n",
    "    # TODO\n",
    "    print(\"X: \", X)\n",
    "    print(\"X shape\", X.shape)\n",
    "    print(\"X rank\", matrix_rank(X))\n",
    "    U, D, V = svd(X)\n",
    "    print(\"Shapes of U, D and V: \", U.shape, D.shape, V.shape)\n",
    "    print(\"Ranks of U, D and V: \", matrix_rank(U), matrix_rank(D), matrix_rank(V))\n",
    "    sigma = np.zeros((X.shape[0], X.shape[1]))\n",
    "    for i in range(k):\n",
    "        sigma[i,i] = D[i]\n",
    "    print(\"sigma shape\", sigma.shape)\n",
    "    print(\"sigma rank\", matrix_rank(sigma))\n",
    "    X_k = np.dot(U, np.dot(sigma, V))\n",
    "    print(\"X_k: \", X_k)\n",
    "    print(\"X_k shape\", X_k.shape)\n",
    "    print(\"X_k rank\", matrix_rank(X_k))\n",
    "    return X_k"
   ]
  },
  {
   "cell_type": "markdown",
   "metadata": {},
   "source": [
    "Проверка"
   ]
  },
  {
   "cell_type": "code",
   "execution_count": 59,
   "metadata": {},
   "outputs": [
    {
     "name": "stdout",
     "output_type": "stream",
     "text": [
      "X:  [[6 3 7 4 6]\n",
      " [9 2 6 7 4]\n",
      " [3 7 7 2 5]\n",
      " [4 1 7 5 1]]\n",
      "X shape (4, 5)\n",
      "X rank 4\n",
      "Shapes of U, D and V:  (4, 4) (4,) (5, 5)\n",
      "Ranks of U, D and V:  4 1 5\n",
      "sigma shape (4, 5)\n",
      "sigma rank 3\n",
      "X_k:  [[6.29395613 3.93074059 6.49802023 4.37786463 5.25809381]\n",
      " [8.81837437 1.4249266  6.31015646 6.76653012 4.45839895]\n",
      " [2.85604946 6.54421563 7.24581987 1.8149594  5.36331202]\n",
      " [4.04025138 1.12744621 6.93126396 5.05174097 0.89841086]]\n",
      "X_k shape (4, 5)\n",
      "X_k rank 3\n"
     ]
    },
    {
     "data": {
      "text/plain": [
       "True"
      ]
     },
     "execution_count": 59,
     "metadata": {},
     "output_type": "execute_result"
    }
   ],
   "source": [
    "np.random.seed(42)\n",
    "X = np.random.randint(0, 10, size=(4, 5))\n",
    "X_k = function_4(X, 3)\n",
    "(scipy.linalg.norm(X - X_k) < 2 and np.linalg.matrix_rank(X_k) == 3)"
   ]
  },
  {
   "cell_type": "code",
   "execution_count": 60,
   "metadata": {},
   "outputs": [
    {
     "name": "stdout",
     "output_type": "stream",
     "text": [
      "X:  [[6 3 7 4 6]\n",
      " [9 2 6 7 4]\n",
      " [3 7 7 2 5]\n",
      " [4 1 7 5 1]]\n",
      "X shape (4, 5)\n",
      "X rank 4\n",
      "Shapes of U, D and V:  (4, 4) (4,) (5, 5)\n",
      "Ranks of U, D and V:  4 1 5\n",
      "sigma shape (4, 5)\n",
      "sigma rank 4\n",
      "X_k:  [[6. 3. 7. 4. 6.]\n",
      " [9. 2. 6. 7. 4.]\n",
      " [3. 7. 7. 2. 5.]\n",
      " [4. 1. 7. 5. 1.]]\n",
      "X_k shape (4, 5)\n",
      "X_k rank 4\n"
     ]
    },
    {
     "data": {
      "text/plain": [
       "True"
      ]
     },
     "execution_count": 60,
     "metadata": {},
     "output_type": "execute_result"
    }
   ],
   "source": [
    "np.random.seed(42)\n",
    "X = np.random.randint(0, 10, size=(4, 5))\n",
    "X_k = function_4(X, 4)\n",
    "(scipy.linalg.norm(X - X_k) < 1e-10 and np.linalg.matrix_rank(X_k) == 4)"
   ]
  },
  {
   "cell_type": "markdown",
   "metadata": {
    "collapsed": true
   },
   "source": [
    "Значение для формы"
   ]
  },
  {
   "cell_type": "code",
   "execution_count": 61,
   "metadata": {},
   "outputs": [
    {
     "name": "stdout",
     "output_type": "stream",
     "text": [
      "X:  [[6 3 7 ... 8 3 8]\n",
      " [2 6 5 ... 5 2 8]\n",
      " [4 7 0 ... 0 0 2]\n",
      " ...\n",
      " [6 1 0 ... 5 2 3]\n",
      " [0 7 0 ... 4 9 3]\n",
      " [2 0 4 ... 1 5 6]]\n",
      "X shape (100, 150)\n",
      "X rank 100\n",
      "Shapes of U, D and V:  (100, 100) (100,) (150, 150)\n",
      "Ranks of U, D and V:  100 1 150\n",
      "sigma shape (100, 150)\n",
      "sigma rank 40\n",
      "X_k:  [[4.80720966 1.06853647 5.49038852 ... 9.25476259 5.17258451 8.56464183]\n",
      " [2.87791181 6.74058141 4.53021483 ... 5.19206556 0.44894201 8.44726114]\n",
      " [3.56713343 7.65493779 0.15812988 ... 0.03064089 1.94672964 3.1342966 ]\n",
      " ...\n",
      " [3.68891063 2.05509514 3.05259116 ... 3.44405992 2.64163339 3.06659287]\n",
      " [1.76922338 4.96491226 0.72520991 ... 3.92744352 7.02023693 2.80540131]\n",
      " [0.99071952 0.46317761 5.83741007 ... 3.63716643 5.39044931 3.81105155]]\n",
      "X_k shape (100, 150)\n",
      "X_k rank 40\n",
      "7279.84\n"
     ]
    }
   ],
   "source": [
    "np.random.seed(42)\n",
    "X = np.random.randint(0, 10, size=(100, 150))\n",
    "X_k = function_4(X, 40)\n",
    "print(np.round(scipy.linalg.norm(X - X_k), 3) * np.linalg.matrix_rank(X_k))"
   ]
  },
  {
   "cell_type": "markdown",
   "metadata": {},
   "source": [
    "## Задание 5 ★★☆"
   ]
  },
  {
   "cell_type": "markdown",
   "metadata": {
    "collapsed": true
   },
   "source": [
    "Найдите тангенс угла наклона прямой, такой что максимальное расстояние от точек $X$ до прямой минимально. Cчитайте, что прямая проходит через начало координат."
   ]
  },
  {
   "cell_type": "code",
   "execution_count": 99,
   "metadata": {},
   "outputs": [
    {
     "data": {
      "image/png": "[encoded data removed]",
      "text/plain": [
       "<Figure size 432x288 with 1 Axes>"
      ]
     },
     "metadata": {
      "needs_background": "light"
     },
     "output_type": "display_data"
    }
   ],
   "source": [
    "from sklearn.datasets import load_breast_cancer\n",
    "import matplotlib.pyplot as plt\n",
    "import scipy.optimize\n",
    "from math import sqrt\n",
    "\n",
    "data = load_breast_cancer()\n",
    "X = data.data[:, :2]\n",
    "#print(X)\n",
    "#print(X[:, 1])\n",
    "#print(X.shape)\n",
    "x = np.arange(0, 30, 0.1)\n",
    "plt.scatter(X[:, 0], X[:, 1], label = \"Data points\")\n",
    "plt.plot(x, 5.05*x, 'r-', lw=2, label = \"Line y=kx with optimal k\")\n",
    "plt.legend()\n",
    "plt.show()"
   ]
  },
  {
   "cell_type": "code",
   "execution_count": 84,
   "metadata": {},
   "outputs": [],
   "source": [
    "def function_5(points):\n",
    "    # TODO\n",
    "    res = scipy.optimize.minimize(lambda k: np.amax(np.absolute(k*np.array(points[:,0])-np.array(points[:,1]))/sqrt(k**2+1)), 0)\n",
    "    return res.x[0] "
   ]
  },
  {
   "cell_type": "markdown",
   "metadata": {},
   "source": [
    "Значение для формы"
   ]
  },
  {
   "cell_type": "code",
   "execution_count": 85,
   "metadata": {},
   "outputs": [
    {
     "name": "stdout",
     "output_type": "stream",
     "text": [
      "5.05\n"
     ]
    }
   ],
   "source": [
    "print(round(function_5(X), 3))"
   ]
  }
 ],
 "metadata": {
  "kernelspec": {
   "display_name": "DMIA_2018",
   "language": "python",
   "name": "dmia_2018"
  },
  "language_info": {
   "codemirror_mode": {
    "name": "ipython",
    "version": 3
   },
   "file_extension": ".py",
   "mimetype": "text/x-python",
   "name": "python",
   "nbconvert_exporter": "python",
   "pygments_lexer": "ipython3",
   "version": "3.6.6"
  }
 },
 "nbformat": 4,
 "nbformat_minor": 2
}
